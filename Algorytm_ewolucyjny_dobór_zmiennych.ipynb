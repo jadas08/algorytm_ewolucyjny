{
  "nbformat": 4,
  "nbformat_minor": 0,
  "metadata": {
    "colab": {
      "name": "Algorytm ewolucyjny - dobór zmiennych.ipynb",
      "provenance": [],
      "collapsed_sections": []
    },
    "kernelspec": {
      "name": "python3",
      "display_name": "Python 3"
    },
    "language_info": {
      "name": "python"
    }
  },
  "cells": [
    {
      "cell_type": "markdown",
      "source": [
        "## Algorytm ewolucyjny jako metoda doboru zmiennych do modelu\n",
        "Jędrzej Adaszyński"
      ],
      "metadata": {
        "id": "_FTZBKM0x--T"
      }
    },
    {
      "cell_type": "markdown",
      "source": [
        "Celem analizy jest próba stworzenia od podstaw algorytmu ewolucyjnego, którego celem będzie dobór zmiennych do modelu predykcyjnego. Wybór zmiennych jest kluczowy przy modelach predykcyjnych, a konstrukcja algorytmu ewolucyjnego pozwala samemu stworzyć funckję celu, którą następnie maksymalizuje.\n",
        "\n",
        "Taka metoda doboru zmiennych może w szczególności przydać się w algorytmach wykorzystywanych w problemach medycznych. Utrzymywanie algorytmów bazujących na wielu zmiennych może być bardzo kosztownych, z racji że w celu pozyskania nowych danych często konieczne są kolejne badania.\n",
        "\n",
        "Algorytm ewolucyjny jest algorytmem optymalizującym tzn. że przy danych ograniczeniach stara się znaleźć maksywalną lub minimalną wartość zadanej funkcji. W przypadku tej analizy, ograniczeniem będzie liczba zmiennych, a za funkcję celu opowiadać będzie pole pod krzywą ROC, a dalszej części F1-score."
      ],
      "metadata": {
        "id": "rGLRmfHxxoe2"
      }
    },
    {
      "cell_type": "code",
      "metadata": {
        "id": "9nloc9zcBSlS"
      },
      "source": [
        "import numpy as np\n",
        "import pandas as pd\n",
        "from random import Random\n",
        "import matplotlib.pyplot as plt\n",
        "import warnings\n",
        "warnings.filterwarnings(\"ignore\")"
      ],
      "execution_count": null,
      "outputs": []
    },
    {
      "cell_type": "markdown",
      "source": [
        "Pracować będziemy na danych breast_cancer dostępnym w ramach biblioteki Scikit Learn."
      ],
      "metadata": {
        "id": "C_3j6gum0lvz"
      }
    },
    {
      "cell_type": "code",
      "metadata": {
        "id": "DPLqC5uPDPbF",
        "colab": {
          "base_uri": "https://localhost:8080/"
        },
        "outputId": "8827321e-2767-4415-c59f-157ce42e5a29"
      },
      "source": [
        "from sklearn.datasets import load_breast_cancer\n",
        "data = load_breast_cancer()\n",
        "\n",
        "df = pd.DataFrame(data.data,columns=data.feature_names)\n",
        "df['target'] = pd.Series(data.target)\n",
        "\n",
        "y = df.pop('target')\n",
        "X = df\n",
        "\n",
        "print(X.shape)"
      ],
      "execution_count": null,
      "outputs": [
        {
          "output_type": "stream",
          "name": "stdout",
          "text": [
            "(569, 30)\n"
          ]
        }
      ]
    },
    {
      "cell_type": "markdown",
      "metadata": {
        "id": "S20LR1O-N9Up"
      },
      "source": [
        "Dzielimy dane na dwie części - treningowe oraz testowe."
      ]
    },
    {
      "cell_type": "code",
      "metadata": {
        "id": "sK78qvh-M7eZ"
      },
      "source": [
        "from sklearn.model_selection import train_test_split\n",
        "X_train, X_test, y_train, y_test = train_test_split(X, y, test_size=0.2, random_state=1)"
      ],
      "execution_count": null,
      "outputs": []
    },
    {
      "cell_type": "markdown",
      "source": [
        "Pierwszym krokiem jest stworzenie funkcji, która pozwoli nam generować początkową populację. Populacja ta będzie losowa. \n",
        "\n",
        "Populacja składać się będzie z wektorów, które wykorzystane mogłyby zostać jako potencjalne dobory zmiennych. Przykładowo wektor, który składałby się z wartości 1 na pierwszym miejscu, a na reszcie pozycji zawierał 0, przekładałby się na specyfikację z jedynie pierwszą zmienną jako zmienną objaśniającą.\n",
        "\n",
        "Funkcja za argumenty brać będzie rozmiar populacji, długość wektora, prawdopodobieństwo z jakim dany element wektora będzie przyjmować wartość 1 oraz ograniczenie na całkowitą sumę elementów."
      ],
      "metadata": {
        "id": "qKLKlrOj05oy"
      }
    },
    {
      "cell_type": "code",
      "metadata": {
        "id": "t8L5YSTNJdJb"
      },
      "source": [
        "def random_population(pop_size, length, p_val, max):\n",
        "  pop = []\n",
        "  i = 1\n",
        "  while i <= pop_size:\n",
        "    a = np.random.choice([0, 1], size=(length,), p=[1 - p_val, p_val])\n",
        "    if sum(a) > max or sum(a) == 0:\n",
        "      i = i -1\n",
        "    else:\n",
        "      pop.append(list(a))\n",
        "    i = i + 1\n",
        "  return pop\n",
        "\n",
        "pop = random_population(500, 30, 1/3, 3)"
      ],
      "execution_count": null,
      "outputs": []
    },
    {
      "cell_type": "markdown",
      "source": [
        "Przykładowy wektor wygląda następująco"
      ],
      "metadata": {
        "id": "kfNokBaU3Pcw"
      }
    },
    {
      "cell_type": "code",
      "source": [
        "pop[0]"
      ],
      "metadata": {
        "id": "vJPgWXov3LX-",
        "colab": {
          "base_uri": "https://localhost:8080/"
        },
        "outputId": "eb70bd80-3770-4c53-9d65-d35d76713dbe"
      },
      "execution_count": null,
      "outputs": [
        {
          "output_type": "execute_result",
          "data": {
            "text/plain": [
              "[1,\n",
              " 1,\n",
              " 0,\n",
              " 0,\n",
              " 0,\n",
              " 0,\n",
              " 0,\n",
              " 0,\n",
              " 0,\n",
              " 0,\n",
              " 0,\n",
              " 0,\n",
              " 0,\n",
              " 0,\n",
              " 0,\n",
              " 0,\n",
              " 0,\n",
              " 1,\n",
              " 0,\n",
              " 0,\n",
              " 0,\n",
              " 0,\n",
              " 0,\n",
              " 0,\n",
              " 0,\n",
              " 0,\n",
              " 0,\n",
              " 0,\n",
              " 0,\n",
              " 0]"
            ]
          },
          "metadata": {},
          "execution_count": 89
        }
      ]
    },
    {
      "cell_type": "markdown",
      "source": [
        "Stwórzmy teraz funkcję, która przetłumaczy nam ten wektor na numery konkretnych zmiennych."
      ],
      "metadata": {
        "id": "dpU_mNCl3VXs"
      }
    },
    {
      "cell_type": "code",
      "metadata": {
        "id": "M5XxUz9qLlMj",
        "colab": {
          "base_uri": "https://localhost:8080/"
        },
        "outputId": "d177acc3-fefe-4470-b771-fea013b3358d"
      },
      "source": [
        "def columns_selector(arr):\n",
        "  i = 0\n",
        "  result = []\n",
        "  while i < len(arr):\n",
        "    if arr[i] == 1:\n",
        "      result.append(i)\n",
        "    i = i + 1\n",
        "  return result\n",
        "\n",
        "columns_selector(pop[0])"
      ],
      "execution_count": null,
      "outputs": [
        {
          "output_type": "execute_result",
          "data": {
            "text/plain": [
              "[0, 1, 17]"
            ]
          },
          "metadata": {},
          "execution_count": 90
        }
      ]
    },
    {
      "cell_type": "markdown",
      "source": [
        "Konwencja oznaczenia jest spójna z Pythonem tzn. pierwszy element oznaczony jest jako 0, drugi jako 1 itd.\n",
        "\n",
        "Teraz sprawdźmy jaki wynik osiągnie pierwszy element z wylosowanej populacji."
      ],
      "metadata": {
        "id": "5T_NjL603pLl"
      }
    },
    {
      "cell_type": "code",
      "metadata": {
        "colab": {
          "base_uri": "https://localhost:8080/"
        },
        "id": "KHNXfCGLPEdf",
        "outputId": "362fee69-b0d8-4b9f-ef81-90ea9e75346c"
      },
      "source": [
        "auc_roc_scores = []\n",
        "from sklearn.linear_model import LogisticRegression\n",
        "from sklearn.metrics import roc_auc_score\n",
        "\n",
        "clf = LogisticRegression(random_state=0, max_iter=5000).fit(X_train.iloc[:, columns_selector(pop[1])], y_train)\n",
        "roc_auc_score(y_test, clf.predict_proba(X_test.iloc[:, columns_selector(pop[1])])[:, 1])\n"
      ],
      "execution_count": null,
      "outputs": [
        {
          "output_type": "execute_result",
          "data": {
            "text/plain": [
              "0.9136904761904762"
            ]
          },
          "metadata": {},
          "execution_count": 91
        }
      ]
    },
    {
      "cell_type": "markdown",
      "source": [
        "Stwórzmy funckcję do wyliczenia wyniku. Funckcja estymować będzie model, a następnie zwracać AUC ROC."
      ],
      "metadata": {
        "id": "RJavUT0F4liZ"
      }
    },
    {
      "cell_type": "code",
      "metadata": {
        "colab": {
          "base_uri": "https://localhost:8080/"
        },
        "id": "A57zSChKbul8",
        "outputId": "20b03e54-6e95-4a86-e62f-c7ebaf2ba0c5"
      },
      "source": [
        "def calculate_score(columns, trainX, trainy, testX, testy):\n",
        "  clf = LogisticRegression(random_state=0, max_iter=250).fit(trainX.iloc[:, columns], trainy)\n",
        "  return roc_auc_score(testy, clf.predict_proba(testX.iloc[:, columns])[:, 1])\n",
        "  \n",
        "calculate_score(columns_selector(pop[1]), X_train, y_train, X_test, y_test)"
      ],
      "execution_count": null,
      "outputs": [
        {
          "output_type": "execute_result",
          "data": {
            "text/plain": [
              "0.9136904761904762"
            ]
          },
          "metadata": {},
          "execution_count": 92
        }
      ]
    },
    {
      "cell_type": "markdown",
      "source": [
        "Teraz, w pętli, przeliczać będziemy wynik dla każdej jednostki z populacji. Niektóre z jednostek powtarzają się. W przypadku kiedy wynik dla danej konfiguracji mamy już przeliczony, będzie on kopiwany z tabeli *results* w któej odkładać będziemy wyniki."
      ],
      "metadata": {
        "id": "GZkMg7Z644I5"
      }
    },
    {
      "cell_type": "code",
      "metadata": {
        "colab": {
          "base_uri": "https://localhost:8080/",
          "height": 206
        },
        "id": "AEMQxZbKg0rt",
        "outputId": "572fdca4-f30e-4379-9883-bd485c445ef0"
      },
      "source": [
        "results = pd.DataFrame(columns = ['array', 'columns', 'score'])\n",
        "\n",
        "for i in pop:\n",
        "  if str(columns_selector(i)) not in results['columns']:\n",
        "    results.loc[len(results)] = [str(i) ,columns_selector(i),calculate_score(columns_selector( i ),  X_train, y_train, X_test, y_test)]\n",
        "  else:\n",
        "    results.append( results.loc[results['columns'] == str(columns_selector(i)) ] )\n",
        "\n",
        "results.head()\n"
      ],
      "execution_count": null,
      "outputs": [
        {
          "output_type": "execute_result",
          "data": {
            "text/html": [
              "\n",
              "  <div id=\"df-51b8377d-1147-4a49-a2e7-a7b79f308976\">\n",
              "    <div class=\"colab-df-container\">\n",
              "      <div>\n",
              "<style scoped>\n",
              "    .dataframe tbody tr th:only-of-type {\n",
              "        vertical-align: middle;\n",
              "    }\n",
              "\n",
              "    .dataframe tbody tr th {\n",
              "        vertical-align: top;\n",
              "    }\n",
              "\n",
              "    .dataframe thead th {\n",
              "        text-align: right;\n",
              "    }\n",
              "</style>\n",
              "<table border=\"1\" class=\"dataframe\">\n",
              "  <thead>\n",
              "    <tr style=\"text-align: right;\">\n",
              "      <th></th>\n",
              "      <th>array</th>\n",
              "      <th>columns</th>\n",
              "      <th>score</th>\n",
              "    </tr>\n",
              "  </thead>\n",
              "  <tbody>\n",
              "    <tr>\n",
              "      <th>0</th>\n",
              "      <td>[1, 1, 0, 0, 0, 0, 0, 0, 0, 0, 0, 0, 0, 0, 0, ...</td>\n",
              "      <td>[0, 1, 17]</td>\n",
              "      <td>0.911045</td>\n",
              "    </tr>\n",
              "    <tr>\n",
              "      <th>1</th>\n",
              "      <td>[0, 0, 0, 0, 0, 0, 0, 0, 0, 1, 0, 0, 0, 1, 1, ...</td>\n",
              "      <td>[9, 13, 14]</td>\n",
              "      <td>0.913690</td>\n",
              "    </tr>\n",
              "    <tr>\n",
              "      <th>2</th>\n",
              "      <td>[1, 1, 0, 0, 0, 0, 0, 0, 0, 0, 0, 0, 0, 0, 0, ...</td>\n",
              "      <td>[0, 1, 28]</td>\n",
              "      <td>0.921627</td>\n",
              "    </tr>\n",
              "    <tr>\n",
              "      <th>3</th>\n",
              "      <td>[0, 0, 1, 0, 0, 0, 0, 0, 0, 1, 0, 0, 0, 0, 0, ...</td>\n",
              "      <td>[2, 9, 18]</td>\n",
              "      <td>0.902116</td>\n",
              "    </tr>\n",
              "    <tr>\n",
              "      <th>4</th>\n",
              "      <td>[0, 0, 1, 0, 0, 0, 0, 0, 0, 0, 1, 0, 1, 0, 0, ...</td>\n",
              "      <td>[2, 10, 12]</td>\n",
              "      <td>0.918651</td>\n",
              "    </tr>\n",
              "  </tbody>\n",
              "</table>\n",
              "</div>\n",
              "      <button class=\"colab-df-convert\" onclick=\"convertToInteractive('df-51b8377d-1147-4a49-a2e7-a7b79f308976')\"\n",
              "              title=\"Convert this dataframe to an interactive table.\"\n",
              "              style=\"display:none;\">\n",
              "        \n",
              "  <svg xmlns=\"http://www.w3.org/2000/svg\" height=\"24px\"viewBox=\"0 0 24 24\"\n",
              "       width=\"24px\">\n",
              "    <path d=\"M0 0h24v24H0V0z\" fill=\"none\"/>\n",
              "    <path d=\"M18.56 5.44l.94 2.06.94-2.06 2.06-.94-2.06-.94-.94-2.06-.94 2.06-2.06.94zm-11 1L8.5 8.5l.94-2.06 2.06-.94-2.06-.94L8.5 2.5l-.94 2.06-2.06.94zm10 10l.94 2.06.94-2.06 2.06-.94-2.06-.94-.94-2.06-.94 2.06-2.06.94z\"/><path d=\"M17.41 7.96l-1.37-1.37c-.4-.4-.92-.59-1.43-.59-.52 0-1.04.2-1.43.59L10.3 9.45l-7.72 7.72c-.78.78-.78 2.05 0 2.83L4 21.41c.39.39.9.59 1.41.59.51 0 1.02-.2 1.41-.59l7.78-7.78 2.81-2.81c.8-.78.8-2.07 0-2.86zM5.41 20L4 18.59l7.72-7.72 1.47 1.35L5.41 20z\"/>\n",
              "  </svg>\n",
              "      </button>\n",
              "      \n",
              "  <style>\n",
              "    .colab-df-container {\n",
              "      display:flex;\n",
              "      flex-wrap:wrap;\n",
              "      gap: 12px;\n",
              "    }\n",
              "\n",
              "    .colab-df-convert {\n",
              "      background-color: #E8F0FE;\n",
              "      border: none;\n",
              "      border-radius: 50%;\n",
              "      cursor: pointer;\n",
              "      display: none;\n",
              "      fill: #1967D2;\n",
              "      height: 32px;\n",
              "      padding: 0 0 0 0;\n",
              "      width: 32px;\n",
              "    }\n",
              "\n",
              "    .colab-df-convert:hover {\n",
              "      background-color: #E2EBFA;\n",
              "      box-shadow: 0px 1px 2px rgba(60, 64, 67, 0.3), 0px 1px 3px 1px rgba(60, 64, 67, 0.15);\n",
              "      fill: #174EA6;\n",
              "    }\n",
              "\n",
              "    [theme=dark] .colab-df-convert {\n",
              "      background-color: #3B4455;\n",
              "      fill: #D2E3FC;\n",
              "    }\n",
              "\n",
              "    [theme=dark] .colab-df-convert:hover {\n",
              "      background-color: #434B5C;\n",
              "      box-shadow: 0px 1px 3px 1px rgba(0, 0, 0, 0.15);\n",
              "      filter: drop-shadow(0px 1px 2px rgba(0, 0, 0, 0.3));\n",
              "      fill: #FFFFFF;\n",
              "    }\n",
              "  </style>\n",
              "\n",
              "      <script>\n",
              "        const buttonEl =\n",
              "          document.querySelector('#df-51b8377d-1147-4a49-a2e7-a7b79f308976 button.colab-df-convert');\n",
              "        buttonEl.style.display =\n",
              "          google.colab.kernel.accessAllowed ? 'block' : 'none';\n",
              "\n",
              "        async function convertToInteractive(key) {\n",
              "          const element = document.querySelector('#df-51b8377d-1147-4a49-a2e7-a7b79f308976');\n",
              "          const dataTable =\n",
              "            await google.colab.kernel.invokeFunction('convertToInteractive',\n",
              "                                                     [key], {});\n",
              "          if (!dataTable) return;\n",
              "\n",
              "          const docLinkHtml = 'Like what you see? Visit the ' +\n",
              "            '<a target=\"_blank\" href=https://colab.research.google.com/notebooks/data_table.ipynb>data table notebook</a>'\n",
              "            + ' to learn more about interactive tables.';\n",
              "          element.innerHTML = '';\n",
              "          dataTable['output_type'] = 'display_data';\n",
              "          await google.colab.output.renderOutput(dataTable, element);\n",
              "          const docLink = document.createElement('div');\n",
              "          docLink.innerHTML = docLinkHtml;\n",
              "          element.appendChild(docLink);\n",
              "        }\n",
              "      </script>\n",
              "    </div>\n",
              "  </div>\n",
              "  "
            ],
            "text/plain": [
              "                                               array      columns     score\n",
              "0  [1, 1, 0, 0, 0, 0, 0, 0, 0, 0, 0, 0, 0, 0, 0, ...   [0, 1, 17]  0.911045\n",
              "1  [0, 0, 0, 0, 0, 0, 0, 0, 0, 1, 0, 0, 0, 1, 1, ...  [9, 13, 14]  0.913690\n",
              "2  [1, 1, 0, 0, 0, 0, 0, 0, 0, 0, 0, 0, 0, 0, 0, ...   [0, 1, 28]  0.921627\n",
              "3  [0, 0, 1, 0, 0, 0, 0, 0, 0, 1, 0, 0, 0, 0, 0, ...   [2, 9, 18]  0.902116\n",
              "4  [0, 0, 1, 0, 0, 0, 0, 0, 0, 0, 1, 0, 1, 0, 0, ...  [2, 10, 12]  0.918651"
            ]
          },
          "metadata": {},
          "execution_count": 93
        }
      ]
    },
    {
      "cell_type": "markdown",
      "source": [
        "Teraz musimy wybrać które jednostki będą dalej uwzględniane w procesie doboru. Jest kilka technik takiego doboru. W tym wypadku wykorzytsamy **truncation selection**, czyli wybór jedynie najlepszych przypadków. Taki dobór występuje jedynie w nienaturalnych warunkach, przykładowo w hodowlach, w któych do dalszego rozmnażania wybierane są jedynie najlepsze ze zwierząt pod kątem interesującej nas cechy. Inne przykłady metod selekcji są opisane [w tym artykule](https://en.wikipedia.org/wiki/Selection_(genetic_algorithm))."
      ],
      "metadata": {
        "id": "ewEOanMmUOwv"
      }
    },
    {
      "cell_type": "code",
      "metadata": {
        "id": "2MDhClw4Ibjp"
      },
      "source": [
        "def truncating_selection(population, percent_to_stay, sort_by = 'score'):\n",
        "  res = population.sort_values(axis = 0, by = sort_by, ascending = False)\n",
        "  return res[0 : int(len(res) * percent_to_stay / 100)]\n",
        "\n",
        "results = truncating_selection(results, 50)\n"
      ],
      "execution_count": null,
      "outputs": []
    },
    {
      "cell_type": "markdown",
      "source": [
        "Teraz stworzymy mechanizm rozmnażania. Mechanizmem często wykorzystywanym jest tzw. crossover, oparty na mechanizmie występującym podczas wymiany odcinków między chromosami. W tej analizie wykorzystamy dwupunktowy crossover. Mechanizm jest polega na wyznaczeniu dwóch punktów, a następnie wymiany części wektora między tymi punktami. Do wylosowania punktu wykorzystamy rozkład jednostajny, co zagwarantuje nam że każda możliwość wycięcia kawałka jest równie prawdopodbna.\n",
        "\n",
        "![image.png](data:image/png;base64,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)"
      ],
      "metadata": {
        "id": "9WAGH-kpWxb6"
      }
    },
    {
      "cell_type": "code",
      "metadata": {
        "id": "Ejip195SvRYx"
      },
      "source": [
        "from random import random\n",
        "def crossover(x, y):\n",
        "  if len(x) != len(y):  raise ValueError(\"Arrays must have the same size\")\n",
        "  cut1 = int(random() * len(x))\n",
        "  cut2 = int(random() * len(x))\n",
        "\n",
        "  swap = x[min(cut1, cut2):max(cut1, cut2)]\n",
        "  x[min(cut1, cut2):max(cut1, cut2)] = y[min(cut1, cut2):max(cut1, cut2)]\n",
        "  y[min(cut1, cut2):max(cut1, cut2)] = swap\n",
        "\n",
        "  return x,y"
      ],
      "execution_count": null,
      "outputs": []
    },
    {
      "cell_type": "code",
      "source": [
        "crossover([1,1,1,1,1,1], [0,0,0,0,0,0])"
      ],
      "metadata": {
        "colab": {
          "base_uri": "https://localhost:8080/"
        },
        "id": "74VVp6OFa7aU",
        "outputId": "988b7674-9460-4dea-a4ee-b33637c69c98"
      },
      "execution_count": null,
      "outputs": [
        {
          "output_type": "execute_result",
          "data": {
            "text/plain": [
              "([0, 1, 1, 1, 1, 1], [1, 0, 0, 0, 0, 0])"
            ]
          },
          "metadata": {},
          "execution_count": 96
        }
      ]
    },
    {
      "cell_type": "markdown",
      "source": [
        "Przy takiej metodzie rozmnażania możliwy jest scenariusz, w którym któreś z \"dzieci\" przekracza ograniczenie. Musimy dodać funkcję, która zapewni nam że nie będzie takiego przypadku. Przy przekroczeniu ograniczenia, poniższa funkcja losowo podmieniać będzie jedynki na zera."
      ],
      "metadata": {
        "id": "EC_4ONvuZeAW"
      }
    },
    {
      "cell_type": "code",
      "metadata": {
        "id": "mZg2dg14fo8F"
      },
      "source": [
        "def check_constraint(array, max_sum):\n",
        "  from random import choice\n",
        "  w = list(range(0, len(array)))\n",
        "  if sum(array) <= max_sum: return array\n",
        "  else:\n",
        "    while sum(array) > max_sum:\n",
        "      array[choice(w) - 1] = 0\n",
        "  return array\n",
        "    "
      ],
      "execution_count": null,
      "outputs": []
    },
    {
      "cell_type": "markdown",
      "source": [
        "Teraz musimy doprecyzować funkcję, która dobierze rodziców do rozmnożenia. Zastosujemy proste podejście tj. każdy z wybranych wcześniej rodziców będzie miał równą szansę zostać wybranym do rozmnożenia."
      ],
      "metadata": {
        "id": "MZMnMpjnaaG0"
      }
    },
    {
      "cell_type": "code",
      "metadata": {
        "id": "klgMz-wbpu0M"
      },
      "source": [
        "from json import loads\n",
        "def choose_couples(cur_population, p = 'equal'):\n",
        "  if p == 'equal':\n",
        "      x = loads(str(cur_population.iloc[int(random() * (len(cur_population) - 1)), 0]))\n",
        "      y = loads(str(cur_population.iloc[int(random() * (len(cur_population) - 1)), 0]))\n",
        "      return x,y\n",
        "  else:\n",
        "    pass"
      ],
      "execution_count": null,
      "outputs": []
    },
    {
      "cell_type": "code",
      "metadata": {
        "colab": {
          "base_uri": "https://localhost:8080/",
          "height": 423
        },
        "id": "2PTOdKUAXN3m",
        "outputId": "bf842d5e-f8a8-4d3c-efdc-dd89f3f7e24d"
      },
      "source": [
        "results.iloc[int(random() * (len(results) - 1)), 0]\n",
        "results"
      ],
      "execution_count": null,
      "outputs": [
        {
          "output_type": "execute_result",
          "data": {
            "text/html": [
              "\n",
              "  <div id=\"df-f91ab73a-20b5-4114-a721-35f4ae80a8d2\">\n",
              "    <div class=\"colab-df-container\">\n",
              "      <div>\n",
              "<style scoped>\n",
              "    .dataframe tbody tr th:only-of-type {\n",
              "        vertical-align: middle;\n",
              "    }\n",
              "\n",
              "    .dataframe tbody tr th {\n",
              "        vertical-align: top;\n",
              "    }\n",
              "\n",
              "    .dataframe thead th {\n",
              "        text-align: right;\n",
              "    }\n",
              "</style>\n",
              "<table border=\"1\" class=\"dataframe\">\n",
              "  <thead>\n",
              "    <tr style=\"text-align: right;\">\n",
              "      <th></th>\n",
              "      <th>array</th>\n",
              "      <th>columns</th>\n",
              "      <th>score</th>\n",
              "    </tr>\n",
              "  </thead>\n",
              "  <tbody>\n",
              "    <tr>\n",
              "      <th>436</th>\n",
              "      <td>[0, 1, 0, 1, 0, 0, 0, 0, 0, 0, 0, 0, 0, 0, 0, ...</td>\n",
              "      <td>[1, 3, 23]</td>\n",
              "      <td>0.979167</td>\n",
              "    </tr>\n",
              "    <tr>\n",
              "      <th>73</th>\n",
              "      <td>[0, 0, 0, 0, 0, 0, 0, 0, 0, 0, 0, 0, 1, 0, 0, ...</td>\n",
              "      <td>[12, 21, 23]</td>\n",
              "      <td>0.977183</td>\n",
              "    </tr>\n",
              "    <tr>\n",
              "      <th>308</th>\n",
              "      <td>[0, 0, 0, 0, 0, 0, 0, 0, 0, 0, 0, 0, 0, 0, 0, ...</td>\n",
              "      <td>[21, 22, 28]</td>\n",
              "      <td>0.975529</td>\n",
              "    </tr>\n",
              "    <tr>\n",
              "      <th>205</th>\n",
              "      <td>[0, 0, 0, 0, 0, 0, 0, 0, 0, 0, 0, 0, 0, 0, 0, ...</td>\n",
              "      <td>[20, 21, 29]</td>\n",
              "      <td>0.973214</td>\n",
              "    </tr>\n",
              "    <tr>\n",
              "      <th>419</th>\n",
              "      <td>[0, 0, 0, 0, 0, 0, 1, 0, 0, 0, 0, 0, 0, 0, 0, ...</td>\n",
              "      <td>[6, 20, 21]</td>\n",
              "      <td>0.973214</td>\n",
              "    </tr>\n",
              "    <tr>\n",
              "      <th>...</th>\n",
              "      <td>...</td>\n",
              "      <td>...</td>\n",
              "      <td>...</td>\n",
              "    </tr>\n",
              "    <tr>\n",
              "      <th>122</th>\n",
              "      <td>[0, 0, 1, 0, 0, 0, 0, 0, 0, 0, 1, 0, 0, 0, 0, ...</td>\n",
              "      <td>[2, 10, 16]</td>\n",
              "      <td>0.910384</td>\n",
              "    </tr>\n",
              "    <tr>\n",
              "      <th>252</th>\n",
              "      <td>[0, 0, 1, 0, 0, 0, 0, 0, 0, 0, 1, 0, 0, 0, 0, ...</td>\n",
              "      <td>[2, 10, 15]</td>\n",
              "      <td>0.910384</td>\n",
              "    </tr>\n",
              "    <tr>\n",
              "      <th>28</th>\n",
              "      <td>[0, 0, 1, 0, 0, 0, 1, 0, 0, 0, 0, 0, 0, 0, 0, ...</td>\n",
              "      <td>[2, 6, 29]</td>\n",
              "      <td>0.910384</td>\n",
              "    </tr>\n",
              "    <tr>\n",
              "      <th>443</th>\n",
              "      <td>[0, 0, 0, 1, 0, 0, 0, 0, 1, 0, 0, 0, 1, 0, 0, ...</td>\n",
              "      <td>[3, 8, 12]</td>\n",
              "      <td>0.910053</td>\n",
              "    </tr>\n",
              "    <tr>\n",
              "      <th>17</th>\n",
              "      <td>[0, 0, 1, 0, 1, 0, 1, 0, 0, 0, 0, 0, 0, 0, 0, ...</td>\n",
              "      <td>[2, 4, 6]</td>\n",
              "      <td>0.909722</td>\n",
              "    </tr>\n",
              "  </tbody>\n",
              "</table>\n",
              "<p>250 rows × 3 columns</p>\n",
              "</div>\n",
              "      <button class=\"colab-df-convert\" onclick=\"convertToInteractive('df-f91ab73a-20b5-4114-a721-35f4ae80a8d2')\"\n",
              "              title=\"Convert this dataframe to an interactive table.\"\n",
              "              style=\"display:none;\">\n",
              "        \n",
              "  <svg xmlns=\"http://www.w3.org/2000/svg\" height=\"24px\"viewBox=\"0 0 24 24\"\n",
              "       width=\"24px\">\n",
              "    <path d=\"M0 0h24v24H0V0z\" fill=\"none\"/>\n",
              "    <path d=\"M18.56 5.44l.94 2.06.94-2.06 2.06-.94-2.06-.94-.94-2.06-.94 2.06-2.06.94zm-11 1L8.5 8.5l.94-2.06 2.06-.94-2.06-.94L8.5 2.5l-.94 2.06-2.06.94zm10 10l.94 2.06.94-2.06 2.06-.94-2.06-.94-.94-2.06-.94 2.06-2.06.94z\"/><path d=\"M17.41 7.96l-1.37-1.37c-.4-.4-.92-.59-1.43-.59-.52 0-1.04.2-1.43.59L10.3 9.45l-7.72 7.72c-.78.78-.78 2.05 0 2.83L4 21.41c.39.39.9.59 1.41.59.51 0 1.02-.2 1.41-.59l7.78-7.78 2.81-2.81c.8-.78.8-2.07 0-2.86zM5.41 20L4 18.59l7.72-7.72 1.47 1.35L5.41 20z\"/>\n",
              "  </svg>\n",
              "      </button>\n",
              "      \n",
              "  <style>\n",
              "    .colab-df-container {\n",
              "      display:flex;\n",
              "      flex-wrap:wrap;\n",
              "      gap: 12px;\n",
              "    }\n",
              "\n",
              "    .colab-df-convert {\n",
              "      background-color: #E8F0FE;\n",
              "      border: none;\n",
              "      border-radius: 50%;\n",
              "      cursor: pointer;\n",
              "      display: none;\n",
              "      fill: #1967D2;\n",
              "      height: 32px;\n",
              "      padding: 0 0 0 0;\n",
              "      width: 32px;\n",
              "    }\n",
              "\n",
              "    .colab-df-convert:hover {\n",
              "      background-color: #E2EBFA;\n",
              "      box-shadow: 0px 1px 2px rgba(60, 64, 67, 0.3), 0px 1px 3px 1px rgba(60, 64, 67, 0.15);\n",
              "      fill: #174EA6;\n",
              "    }\n",
              "\n",
              "    [theme=dark] .colab-df-convert {\n",
              "      background-color: #3B4455;\n",
              "      fill: #D2E3FC;\n",
              "    }\n",
              "\n",
              "    [theme=dark] .colab-df-convert:hover {\n",
              "      background-color: #434B5C;\n",
              "      box-shadow: 0px 1px 3px 1px rgba(0, 0, 0, 0.15);\n",
              "      filter: drop-shadow(0px 1px 2px rgba(0, 0, 0, 0.3));\n",
              "      fill: #FFFFFF;\n",
              "    }\n",
              "  </style>\n",
              "\n",
              "      <script>\n",
              "        const buttonEl =\n",
              "          document.querySelector('#df-f91ab73a-20b5-4114-a721-35f4ae80a8d2 button.colab-df-convert');\n",
              "        buttonEl.style.display =\n",
              "          google.colab.kernel.accessAllowed ? 'block' : 'none';\n",
              "\n",
              "        async function convertToInteractive(key) {\n",
              "          const element = document.querySelector('#df-f91ab73a-20b5-4114-a721-35f4ae80a8d2');\n",
              "          const dataTable =\n",
              "            await google.colab.kernel.invokeFunction('convertToInteractive',\n",
              "                                                     [key], {});\n",
              "          if (!dataTable) return;\n",
              "\n",
              "          const docLinkHtml = 'Like what you see? Visit the ' +\n",
              "            '<a target=\"_blank\" href=https://colab.research.google.com/notebooks/data_table.ipynb>data table notebook</a>'\n",
              "            + ' to learn more about interactive tables.';\n",
              "          element.innerHTML = '';\n",
              "          dataTable['output_type'] = 'display_data';\n",
              "          await google.colab.output.renderOutput(dataTable, element);\n",
              "          const docLink = document.createElement('div');\n",
              "          docLink.innerHTML = docLinkHtml;\n",
              "          element.appendChild(docLink);\n",
              "        }\n",
              "      </script>\n",
              "    </div>\n",
              "  </div>\n",
              "  "
            ],
            "text/plain": [
              "                                                 array       columns     score\n",
              "436  [0, 1, 0, 1, 0, 0, 0, 0, 0, 0, 0, 0, 0, 0, 0, ...    [1, 3, 23]  0.979167\n",
              "73   [0, 0, 0, 0, 0, 0, 0, 0, 0, 0, 0, 0, 1, 0, 0, ...  [12, 21, 23]  0.977183\n",
              "308  [0, 0, 0, 0, 0, 0, 0, 0, 0, 0, 0, 0, 0, 0, 0, ...  [21, 22, 28]  0.975529\n",
              "205  [0, 0, 0, 0, 0, 0, 0, 0, 0, 0, 0, 0, 0, 0, 0, ...  [20, 21, 29]  0.973214\n",
              "419  [0, 0, 0, 0, 0, 0, 1, 0, 0, 0, 0, 0, 0, 0, 0, ...   [6, 20, 21]  0.973214\n",
              "..                                                 ...           ...       ...\n",
              "122  [0, 0, 1, 0, 0, 0, 0, 0, 0, 0, 1, 0, 0, 0, 0, ...   [2, 10, 16]  0.910384\n",
              "252  [0, 0, 1, 0, 0, 0, 0, 0, 0, 0, 1, 0, 0, 0, 0, ...   [2, 10, 15]  0.910384\n",
              "28   [0, 0, 1, 0, 0, 0, 1, 0, 0, 0, 0, 0, 0, 0, 0, ...    [2, 6, 29]  0.910384\n",
              "443  [0, 0, 0, 1, 0, 0, 0, 0, 1, 0, 0, 0, 1, 0, 0, ...    [3, 8, 12]  0.910053\n",
              "17   [0, 0, 1, 0, 1, 0, 1, 0, 0, 0, 0, 0, 0, 0, 0, ...     [2, 4, 6]  0.909722\n",
              "\n",
              "[250 rows x 3 columns]"
            ]
          },
          "metadata": {},
          "execution_count": 100
        }
      ]
    },
    {
      "cell_type": "code",
      "metadata": {
        "id": "vHyBcA20ywuo"
      },
      "source": [
        "pop = random_population(10, 30, 0.1, 3)\n",
        "results = pd.DataFrame(columns = ['array', 'columns', 'score'])\n",
        "\n",
        "for i in pop:\n",
        "  if str(columns_selector(i)) not in results['columns']:\n",
        "    results.loc[len(results)] = [str(i) ,columns_selector(i),calculate_score(columns_selector( i ),  X_train, y_train, X_test, y_test)]\n",
        "  else:\n",
        "    results.append( results.loc[results['columns'] == str(columns_selector(i)) ] )\n",
        "\n"
      ],
      "execution_count": null,
      "outputs": []
    },
    {
      "cell_type": "code",
      "metadata": {
        "colab": {
          "base_uri": "https://localhost:8080/",
          "height": 206
        },
        "id": "FjKCKhTg5myl",
        "outputId": "3d868e26-3b19-4a33-d5ce-b7bc5324894a"
      },
      "source": [
        "max_scores = []\n",
        "best_in_generation = []\n",
        "scores = []\n",
        "\n",
        "\n",
        "i = 0\n",
        "while i < 30 :\n",
        "  results = truncating_selection(results, 50)\n",
        "  cnt = 0\n",
        "  while len(results) < 10:\n",
        "    couple = choose_couples(results)\n",
        "    a = check_constraint( crossover(couple[0], couple[1])[0], 3 )\n",
        "    b = check_constraint( crossover(couple[0], couple[1])[1], 3 )\n",
        "    if sum(a) != 0:\n",
        "      results.loc[len(results)] = [ str(a) , columns_selector(a), calculate_score(columns_selector( a ),  X_train, y_train, X_test, y_test) ]\n",
        "    if sum(b) != 0:\n",
        "      results.loc[len(results)] = [ str(b) , columns_selector(b), calculate_score(columns_selector( b ),  X_train, y_train, X_test, y_test) ]\n",
        "    cnt = cnt +1\n",
        "    results = results.reset_index(drop=True)\n",
        "  best_in_generation.append(results.loc[results['score'].idxmax()][1])\n",
        "  scores.append( results['score'].mean() )\n",
        "  max_scores.append( results['score'].max() )\n",
        "\n",
        "  i = i + 1\n",
        "\n",
        "results.head()"
      ],
      "execution_count": null,
      "outputs": [
        {
          "output_type": "execute_result",
          "data": {
            "text/html": [
              "\n",
              "  <div id=\"df-cc54a67e-88cb-4632-83aa-80361eec835c\">\n",
              "    <div class=\"colab-df-container\">\n",
              "      <div>\n",
              "<style scoped>\n",
              "    .dataframe tbody tr th:only-of-type {\n",
              "        vertical-align: middle;\n",
              "    }\n",
              "\n",
              "    .dataframe tbody tr th {\n",
              "        vertical-align: top;\n",
              "    }\n",
              "\n",
              "    .dataframe thead th {\n",
              "        text-align: right;\n",
              "    }\n",
              "</style>\n",
              "<table border=\"1\" class=\"dataframe\">\n",
              "  <thead>\n",
              "    <tr style=\"text-align: right;\">\n",
              "      <th></th>\n",
              "      <th>array</th>\n",
              "      <th>columns</th>\n",
              "      <th>score</th>\n",
              "    </tr>\n",
              "  </thead>\n",
              "  <tbody>\n",
              "    <tr>\n",
              "      <th>0</th>\n",
              "      <td>[0, 0, 0, 0, 0, 0, 0, 0, 0, 1, 0, 0, 0, 1, 0, ...</td>\n",
              "      <td>[9, 13, 22, 26]</td>\n",
              "      <td>0.97123</td>\n",
              "    </tr>\n",
              "    <tr>\n",
              "      <th>1</th>\n",
              "      <td>[0, 0, 0, 0, 0, 0, 0, 0, 0, 0, 0, 0, 0, 1, 0, ...</td>\n",
              "      <td>[13, 22, 26]</td>\n",
              "      <td>0.97123</td>\n",
              "    </tr>\n",
              "    <tr>\n",
              "      <th>2</th>\n",
              "      <td>[0, 0, 0, 0, 0, 0, 0, 0, 0, 0, 0, 0, 0, 1, 0, ...</td>\n",
              "      <td>[13, 22, 26]</td>\n",
              "      <td>0.97123</td>\n",
              "    </tr>\n",
              "    <tr>\n",
              "      <th>3</th>\n",
              "      <td>[0, 0, 0, 0, 0, 0, 0, 0, 0, 0, 0, 0, 0, 1, 0, ...</td>\n",
              "      <td>[13, 22, 26]</td>\n",
              "      <td>0.97123</td>\n",
              "    </tr>\n",
              "    <tr>\n",
              "      <th>4</th>\n",
              "      <td>[0, 0, 0, 0, 0, 0, 0, 0, 0, 0, 0, 0, 0, 1, 0, ...</td>\n",
              "      <td>[13, 22, 26]</td>\n",
              "      <td>0.97123</td>\n",
              "    </tr>\n",
              "  </tbody>\n",
              "</table>\n",
              "</div>\n",
              "      <button class=\"colab-df-convert\" onclick=\"convertToInteractive('df-cc54a67e-88cb-4632-83aa-80361eec835c')\"\n",
              "              title=\"Convert this dataframe to an interactive table.\"\n",
              "              style=\"display:none;\">\n",
              "        \n",
              "  <svg xmlns=\"http://www.w3.org/2000/svg\" height=\"24px\"viewBox=\"0 0 24 24\"\n",
              "       width=\"24px\">\n",
              "    <path d=\"M0 0h24v24H0V0z\" fill=\"none\"/>\n",
              "    <path d=\"M18.56 5.44l.94 2.06.94-2.06 2.06-.94-2.06-.94-.94-2.06-.94 2.06-2.06.94zm-11 1L8.5 8.5l.94-2.06 2.06-.94-2.06-.94L8.5 2.5l-.94 2.06-2.06.94zm10 10l.94 2.06.94-2.06 2.06-.94-2.06-.94-.94-2.06-.94 2.06-2.06.94z\"/><path d=\"M17.41 7.96l-1.37-1.37c-.4-.4-.92-.59-1.43-.59-.52 0-1.04.2-1.43.59L10.3 9.45l-7.72 7.72c-.78.78-.78 2.05 0 2.83L4 21.41c.39.39.9.59 1.41.59.51 0 1.02-.2 1.41-.59l7.78-7.78 2.81-2.81c.8-.78.8-2.07 0-2.86zM5.41 20L4 18.59l7.72-7.72 1.47 1.35L5.41 20z\"/>\n",
              "  </svg>\n",
              "      </button>\n",
              "      \n",
              "  <style>\n",
              "    .colab-df-container {\n",
              "      display:flex;\n",
              "      flex-wrap:wrap;\n",
              "      gap: 12px;\n",
              "    }\n",
              "\n",
              "    .colab-df-convert {\n",
              "      background-color: #E8F0FE;\n",
              "      border: none;\n",
              "      border-radius: 50%;\n",
              "      cursor: pointer;\n",
              "      display: none;\n",
              "      fill: #1967D2;\n",
              "      height: 32px;\n",
              "      padding: 0 0 0 0;\n",
              "      width: 32px;\n",
              "    }\n",
              "\n",
              "    .colab-df-convert:hover {\n",
              "      background-color: #E2EBFA;\n",
              "      box-shadow: 0px 1px 2px rgba(60, 64, 67, 0.3), 0px 1px 3px 1px rgba(60, 64, 67, 0.15);\n",
              "      fill: #174EA6;\n",
              "    }\n",
              "\n",
              "    [theme=dark] .colab-df-convert {\n",
              "      background-color: #3B4455;\n",
              "      fill: #D2E3FC;\n",
              "    }\n",
              "\n",
              "    [theme=dark] .colab-df-convert:hover {\n",
              "      background-color: #434B5C;\n",
              "      box-shadow: 0px 1px 3px 1px rgba(0, 0, 0, 0.15);\n",
              "      filter: drop-shadow(0px 1px 2px rgba(0, 0, 0, 0.3));\n",
              "      fill: #FFFFFF;\n",
              "    }\n",
              "  </style>\n",
              "\n",
              "      <script>\n",
              "        const buttonEl =\n",
              "          document.querySelector('#df-cc54a67e-88cb-4632-83aa-80361eec835c button.colab-df-convert');\n",
              "        buttonEl.style.display =\n",
              "          google.colab.kernel.accessAllowed ? 'block' : 'none';\n",
              "\n",
              "        async function convertToInteractive(key) {\n",
              "          const element = document.querySelector('#df-cc54a67e-88cb-4632-83aa-80361eec835c');\n",
              "          const dataTable =\n",
              "            await google.colab.kernel.invokeFunction('convertToInteractive',\n",
              "                                                     [key], {});\n",
              "          if (!dataTable) return;\n",
              "\n",
              "          const docLinkHtml = 'Like what you see? Visit the ' +\n",
              "            '<a target=\"_blank\" href=https://colab.research.google.com/notebooks/data_table.ipynb>data table notebook</a>'\n",
              "            + ' to learn more about interactive tables.';\n",
              "          element.innerHTML = '';\n",
              "          dataTable['output_type'] = 'display_data';\n",
              "          await google.colab.output.renderOutput(dataTable, element);\n",
              "          const docLink = document.createElement('div');\n",
              "          docLink.innerHTML = docLinkHtml;\n",
              "          element.appendChild(docLink);\n",
              "        }\n",
              "      </script>\n",
              "    </div>\n",
              "  </div>\n",
              "  "
            ],
            "text/plain": [
              "                                               array          columns    score\n",
              "0  [0, 0, 0, 0, 0, 0, 0, 0, 0, 1, 0, 0, 0, 1, 0, ...  [9, 13, 22, 26]  0.97123\n",
              "1  [0, 0, 0, 0, 0, 0, 0, 0, 0, 0, 0, 0, 0, 1, 0, ...     [13, 22, 26]  0.97123\n",
              "2  [0, 0, 0, 0, 0, 0, 0, 0, 0, 0, 0, 0, 0, 1, 0, ...     [13, 22, 26]  0.97123\n",
              "3  [0, 0, 0, 0, 0, 0, 0, 0, 0, 0, 0, 0, 0, 1, 0, ...     [13, 22, 26]  0.97123\n",
              "4  [0, 0, 0, 0, 0, 0, 0, 0, 0, 0, 0, 0, 0, 1, 0, ...     [13, 22, 26]  0.97123"
            ]
          },
          "metadata": {},
          "execution_count": 102
        }
      ]
    },
    {
      "cell_type": "code",
      "metadata": {
        "colab": {
          "base_uri": "https://localhost:8080/",
          "height": 409
        },
        "id": "mB3sGeErSO9s",
        "outputId": "3d1c8fdd-3386-4a94-9185-e9e7bdf8f5f6"
      },
      "source": [
        "plt.rcParams[\"figure.figsize\"] = (12,6)\n",
        "plt.plot(scores)\n",
        "plt.plot(max_scores)\n",
        "props = dict(boxstyle='round', facecolor='orange', alpha=0.5)\n",
        "#plt.text(-1,-1, 'Max F1-score: ' + str(round(max(max_scores), 3)) + \"\\nfor configuration: \" + str(results.loc[results['score'].idxmax()][1]),  fontsize=14,\n",
        "#        verticalalignment='top', bbox=props)\n",
        "print('Max AUC ROC: ' + str(round(max(max_scores), 3)) + \"\\nfor configuration: \" + str(results.loc[results['score'].idxmax()][1]))"
      ],
      "execution_count": null,
      "outputs": [
        {
          "output_type": "stream",
          "name": "stdout",
          "text": [
            "Max F1-score: 0.971\n",
            "for configuration: [9, 13, 22, 26]\n"
          ]
        },
        {
          "output_type": "display_data",
          "data": {
            "image/png": "[encoded data removed]",
            "text/plain": [
              "<Figure size 864x432 with 1 Axes>"
            ]
          },
          "metadata": {
            "needs_background": "light"
          }
        }
      ]
    },
    {
      "cell_type": "markdown",
      "source": [
        "AUC ROC może nie być najlepszą metryką do mierzenia dokładności klasyfikacji w tym przypadku. Przy diagnozowaniu pacjentów interesuje nas, aby z największą pewnością pacjenci byli poprawnie klasyfikowani dla danego cutoffu prawdopodobieństwa, a nie przeciętnie dla całego rozkładu prawdopodobieństwa. Wykorzystamy F1 score, czyli średniej harmonicznej z precyzji i czułości."
      ],
      "metadata": {
        "id": "49EO1HIAdQOs"
      }
    },
    {
      "cell_type": "code",
      "metadata": {
        "colab": {
          "base_uri": "https://localhost:8080/"
        },
        "id": "uZkqgKbxQOJ2",
        "outputId": "0dca72ca-0774-49e2-b9b9-c0590aca87f4"
      },
      "source": [
        "from sklearn.metrics import f1_score\n",
        "\n",
        "def calculate_score_f1(columns, trainX, trainy, testX, testy):\n",
        "  clf = LogisticRegression(random_state=0, max_iter=250).fit(trainX.iloc[:, columns], trainy)\n",
        "  return f1_score(testy, clf.predict(testX.iloc[:, columns]))\n",
        "  \n",
        "calculate_score_f1(columns_selector(pop[1]), X_train, y_train, X_test, y_test)"
      ],
      "execution_count": null,
      "outputs": [
        {
          "output_type": "execute_result",
          "data": {
            "text/plain": [
              "0.9210526315789473"
            ]
          },
          "metadata": {},
          "execution_count": 104
        }
      ]
    },
    {
      "cell_type": "code",
      "metadata": {
        "colab": {
          "base_uri": "https://localhost:8080/",
          "height": 206
        },
        "id": "MEUgy7-DIRqK",
        "outputId": "cb08380f-5e27-46ce-eb8b-2a1b65766515"
      },
      "source": [
        "pop = random_population(10, 30, 0.3,3 )\n",
        "results = pd.DataFrame(columns = ['array', 'columns', 'score'])\n",
        "\n",
        "for i in pop:\n",
        "  if str(columns_selector(i)) not in results['columns']:\n",
        "    #results[tuple(columns_selector(i))] = calculate_score(columns_selector( i ),  X_train, y_train, X_test, y_test)\n",
        "    results.loc[len(results)] = [str(i) ,columns_selector(i),calculate_score_f1(columns_selector( i ),  X_train, y_train, X_test, y_test)]\n",
        "  else:\n",
        "    results.append( results.loc[results['columns'] == str(columns_selector(i)) ] )\n",
        "\n",
        "max_scores = []\n",
        "best_in_generation = []\n",
        "scores = []\n",
        "\n",
        "i = 1\n",
        "\n",
        "while i < 30 :\n",
        "  results = truncating_selection(results, 50)\n",
        "  cnt = 0\n",
        "  while len(results) < 10:\n",
        "    couple = choose_couples(results)\n",
        "    children = crossover(couple[0], couple[1])\n",
        "    a = check_constraint( children[0], 3 )\n",
        "    b = check_constraint( children[1], 3 )\n",
        "    if sum(a) != 0:\n",
        "      results.loc[len(results)] = [ str(a) , columns_selector(a), calculate_score_f1(columns_selector( a ),  X_train, y_train, X_test, y_test) ]\n",
        "    if sum(b) != 0:\n",
        "      results.loc[len(results)] = [ str(b) , columns_selector(b), calculate_score_f1(columns_selector( b ),  X_train, y_train, X_test, y_test) ]\n",
        "    cnt = cnt +1\n",
        "    results = results.reset_index(drop=True)\n",
        "  best_in_generation.append(results.loc[results['score'].idxmax()][1])\n",
        "  scores.append( results['score'].mean() )\n",
        "  max_scores.append( results['score'].max() )\n",
        "  i = i + 1\n",
        "\n",
        "results.head()"
      ],
      "execution_count": null,
      "outputs": [
        {
          "output_type": "execute_result",
          "data": {
            "text/html": [
              "\n",
              "  <div id=\"df-d4a1c661-dda6-474e-87f9-c0810003d55b\">\n",
              "    <div class=\"colab-df-container\">\n",
              "      <div>\n",
              "<style scoped>\n",
              "    .dataframe tbody tr th:only-of-type {\n",
              "        vertical-align: middle;\n",
              "    }\n",
              "\n",
              "    .dataframe tbody tr th {\n",
              "        vertical-align: top;\n",
              "    }\n",
              "\n",
              "    .dataframe thead th {\n",
              "        text-align: right;\n",
              "    }\n",
              "</style>\n",
              "<table border=\"1\" class=\"dataframe\">\n",
              "  <thead>\n",
              "    <tr style=\"text-align: right;\">\n",
              "      <th></th>\n",
              "      <th>array</th>\n",
              "      <th>columns</th>\n",
              "      <th>score</th>\n",
              "    </tr>\n",
              "  </thead>\n",
              "  <tbody>\n",
              "    <tr>\n",
              "      <th>0</th>\n",
              "      <td>[1, 0, 0, 0, 0, 0, 0, 0, 0, 0, 0, 0, 0, 0, 0, ...</td>\n",
              "      <td>[0, 20]</td>\n",
              "      <td>0.939597</td>\n",
              "    </tr>\n",
              "    <tr>\n",
              "      <th>1</th>\n",
              "      <td>[1, 0, 0, 0, 0, 0, 0, 0, 0, 0, 0, 0, 0, 0, 0, ...</td>\n",
              "      <td>[0, 20]</td>\n",
              "      <td>0.939597</td>\n",
              "    </tr>\n",
              "    <tr>\n",
              "      <th>2</th>\n",
              "      <td>[1, 0, 0, 0, 0, 0, 0, 0, 0, 0, 0, 0, 0, 0, 0, ...</td>\n",
              "      <td>[0, 20]</td>\n",
              "      <td>0.939597</td>\n",
              "    </tr>\n",
              "    <tr>\n",
              "      <th>3</th>\n",
              "      <td>[1, 0, 0, 0, 0, 0, 0, 0, 0, 0, 0, 0, 0, 0, 0, ...</td>\n",
              "      <td>[0, 20]</td>\n",
              "      <td>0.939597</td>\n",
              "    </tr>\n",
              "    <tr>\n",
              "      <th>4</th>\n",
              "      <td>[1, 0, 0, 0, 0, 0, 0, 0, 0, 0, 0, 0, 0, 0, 0, ...</td>\n",
              "      <td>[0, 20]</td>\n",
              "      <td>0.939597</td>\n",
              "    </tr>\n",
              "  </tbody>\n",
              "</table>\n",
              "</div>\n",
              "      <button class=\"colab-df-convert\" onclick=\"convertToInteractive('df-d4a1c661-dda6-474e-87f9-c0810003d55b')\"\n",
              "              title=\"Convert this dataframe to an interactive table.\"\n",
              "              style=\"display:none;\">\n",
              "        \n",
              "  <svg xmlns=\"http://www.w3.org/2000/svg\" height=\"24px\"viewBox=\"0 0 24 24\"\n",
              "       width=\"24px\">\n",
              "    <path d=\"M0 0h24v24H0V0z\" fill=\"none\"/>\n",
              "    <path d=\"M18.56 5.44l.94 2.06.94-2.06 2.06-.94-2.06-.94-.94-2.06-.94 2.06-2.06.94zm-11 1L8.5 8.5l.94-2.06 2.06-.94-2.06-.94L8.5 2.5l-.94 2.06-2.06.94zm10 10l.94 2.06.94-2.06 2.06-.94-2.06-.94-.94-2.06-.94 2.06-2.06.94z\"/><path d=\"M17.41 7.96l-1.37-1.37c-.4-.4-.92-.59-1.43-.59-.52 0-1.04.2-1.43.59L10.3 9.45l-7.72 7.72c-.78.78-.78 2.05 0 2.83L4 21.41c.39.39.9.59 1.41.59.51 0 1.02-.2 1.41-.59l7.78-7.78 2.81-2.81c.8-.78.8-2.07 0-2.86zM5.41 20L4 18.59l7.72-7.72 1.47 1.35L5.41 20z\"/>\n",
              "  </svg>\n",
              "      </button>\n",
              "      \n",
              "  <style>\n",
              "    .colab-df-container {\n",
              "      display:flex;\n",
              "      flex-wrap:wrap;\n",
              "      gap: 12px;\n",
              "    }\n",
              "\n",
              "    .colab-df-convert {\n",
              "      background-color: #E8F0FE;\n",
              "      border: none;\n",
              "      border-radius: 50%;\n",
              "      cursor: pointer;\n",
              "      display: none;\n",
              "      fill: #1967D2;\n",
              "      height: 32px;\n",
              "      padding: 0 0 0 0;\n",
              "      width: 32px;\n",
              "    }\n",
              "\n",
              "    .colab-df-convert:hover {\n",
              "      background-color: #E2EBFA;\n",
              "      box-shadow: 0px 1px 2px rgba(60, 64, 67, 0.3), 0px 1px 3px 1px rgba(60, 64, 67, 0.15);\n",
              "      fill: #174EA6;\n",
              "    }\n",
              "\n",
              "    [theme=dark] .colab-df-convert {\n",
              "      background-color: #3B4455;\n",
              "      fill: #D2E3FC;\n",
              "    }\n",
              "\n",
              "    [theme=dark] .colab-df-convert:hover {\n",
              "      background-color: #434B5C;\n",
              "      box-shadow: 0px 1px 3px 1px rgba(0, 0, 0, 0.15);\n",
              "      filter: drop-shadow(0px 1px 2px rgba(0, 0, 0, 0.3));\n",
              "      fill: #FFFFFF;\n",
              "    }\n",
              "  </style>\n",
              "\n",
              "      <script>\n",
              "        const buttonEl =\n",
              "          document.querySelector('#df-d4a1c661-dda6-474e-87f9-c0810003d55b button.colab-df-convert');\n",
              "        buttonEl.style.display =\n",
              "          google.colab.kernel.accessAllowed ? 'block' : 'none';\n",
              "\n",
              "        async function convertToInteractive(key) {\n",
              "          const element = document.querySelector('#df-d4a1c661-dda6-474e-87f9-c0810003d55b');\n",
              "          const dataTable =\n",
              "            await google.colab.kernel.invokeFunction('convertToInteractive',\n",
              "                                                     [key], {});\n",
              "          if (!dataTable) return;\n",
              "\n",
              "          const docLinkHtml = 'Like what you see? Visit the ' +\n",
              "            '<a target=\"_blank\" href=https://colab.research.google.com/notebooks/data_table.ipynb>data table notebook</a>'\n",
              "            + ' to learn more about interactive tables.';\n",
              "          element.innerHTML = '';\n",
              "          dataTable['output_type'] = 'display_data';\n",
              "          await google.colab.output.renderOutput(dataTable, element);\n",
              "          const docLink = document.createElement('div');\n",
              "          docLink.innerHTML = docLinkHtml;\n",
              "          element.appendChild(docLink);\n",
              "        }\n",
              "      </script>\n",
              "    </div>\n",
              "  </div>\n",
              "  "
            ],
            "text/plain": [
              "                                               array  columns     score\n",
              "0  [1, 0, 0, 0, 0, 0, 0, 0, 0, 0, 0, 0, 0, 0, 0, ...  [0, 20]  0.939597\n",
              "1  [1, 0, 0, 0, 0, 0, 0, 0, 0, 0, 0, 0, 0, 0, 0, ...  [0, 20]  0.939597\n",
              "2  [1, 0, 0, 0, 0, 0, 0, 0, 0, 0, 0, 0, 0, 0, 0, ...  [0, 20]  0.939597\n",
              "3  [1, 0, 0, 0, 0, 0, 0, 0, 0, 0, 0, 0, 0, 0, 0, ...  [0, 20]  0.939597\n",
              "4  [1, 0, 0, 0, 0, 0, 0, 0, 0, 0, 0, 0, 0, 0, 0, ...  [0, 20]  0.939597"
            ]
          },
          "metadata": {},
          "execution_count": 105
        }
      ]
    },
    {
      "cell_type": "code",
      "source": [
        "plt.rcParams[\"figure.figsize\"] = (12,6)\n",
        "plt.plot(scores)\n",
        "plt.plot(max_scores)\n",
        "props = dict(boxstyle='round', facecolor='orange', alpha=0.5)\n",
        "#plt.text(-1,-1, 'Max F1-score: ' + str(round(max(max_scores), 3)) + \"\\nfor configuration: \" + str(results.loc[results['score'].idxmax()][1]),  fontsize=14,\n",
        "#        verticalalignment='top', bbox=props)\n",
        "print('Max F1-score: ' + str(round(max(max_scores), 3)) + \"\\nfor configuration: \" + str(results.loc[results['score'].idxmax()][1]))"
      ],
      "metadata": {
        "colab": {
          "base_uri": "https://localhost:8080/",
          "height": 409
        },
        "id": "kBNhFyiBxdDd",
        "outputId": "a65959ad-5d01-470e-84a6-9a927c214fd1"
      },
      "execution_count": null,
      "outputs": [
        {
          "output_type": "stream",
          "name": "stdout",
          "text": [
            "Max F1-score: 0.94\n",
            "for configuration: [0, 20]\n"
          ]
        },
        {
          "output_type": "display_data",
          "data": {
            "image/png": "[encoded data removed]",
            "text/plain": [
              "<Figure size 864x432 with 1 Axes>"
            ]
          },
          "metadata": {
            "needs_background": "light"
          }
        }
      ]
    },
    {
      "cell_type": "markdown",
      "metadata": {
        "id": "EG467BE20HfX"
      },
      "source": [
        "W wyniku możemy dostrzec, że algorytm szybko wyłapuje dobre rozwiązanie, ale przez niski poziom zmienności, kolejne najlepsze jednostki są identyczne. Do algorytmu dodamy więcej różnorodność poprzez dodanie mechanizmu mutacji."
      ]
    },
    {
      "cell_type": "code",
      "metadata": {
        "id": "BxQdLheo31z7"
      },
      "source": [
        "def mutate(ar, probability):\n",
        "  if probability > 1 :  raise ValueError(\"Maximum value of probability is 1\")\n",
        "  res = ar\n",
        "  i = 0\n",
        "  while i < len(res):\n",
        "    if random() < probability:\n",
        "      if res[i] ==1: res[i]=0\n",
        "      else: res[i]=1\n",
        "    i= i + 1\n",
        "  return res"
      ],
      "execution_count": null,
      "outputs": []
    },
    {
      "cell_type": "markdown",
      "source": [
        "Każdy element jest zmieniany z prawdopodobieństwem podanym jako argument funkcji."
      ],
      "metadata": {
        "id": "lqSrv6nFnAw8"
      }
    },
    {
      "cell_type": "code",
      "source": [
        "mutate([1,1,1,0,0,1,0], 0.2)"
      ],
      "metadata": {
        "colab": {
          "base_uri": "https://localhost:8080/"
        },
        "id": "ifCWQid_nA-e",
        "outputId": "68c278d8-6ef0-4211-b30c-9f7980da41e5"
      },
      "execution_count": null,
      "outputs": [
        {
          "output_type": "execute_result",
          "data": {
            "text/plain": [
              "[1, 0, 1, 1, 0, 0, 0]"
            ]
          },
          "metadata": {},
          "execution_count": 108
        }
      ]
    },
    {
      "cell_type": "markdown",
      "source": [
        "Sprawdźmy jak algorytm zadziała z mechanizmem mutacji."
      ],
      "metadata": {
        "id": "_rDHaF3Vvr8Y"
      }
    },
    {
      "cell_type": "code",
      "metadata": {
        "colab": {
          "base_uri": "https://localhost:8080/",
          "height": 206
        },
        "id": "URC8abjQ5Um-",
        "outputId": "f25e7e49-a7cf-4f6c-fb01-6c1328904b64"
      },
      "source": [
        "pop = random_population(10, 30, 0.1, 3)\n",
        "results = pd.DataFrame(columns = ['array', 'columns', 'score'])\n",
        "\n",
        "for i in pop:\n",
        "  if str(columns_selector(i)) not in results['columns']:\n",
        "    #results[tuple(columns_selector(i))] = calculate_score(columns_selector( i ),  X_train, y_train, X_test, y_test)\n",
        "    results.loc[len(results)] = [str(i) ,columns_selector(i),calculate_score_f1(columns_selector( i ),  X_train, y_train, X_test, y_test)]\n",
        "  else:\n",
        "    results.append( results.loc[results['columns'] == str(columns_selector(i)) ] )\n",
        "\n",
        "max_scores = []\n",
        "best_in_generation = []\n",
        "scores = []\n",
        "scores.append( results['score'].mean() )\n",
        "\n",
        "i = 1\n",
        "#conver = 0\n",
        "\n",
        "while i < 50:\n",
        "  results = truncating_selection(results, 50)\n",
        "  cnt = 0\n",
        "  while len(results) < 10:\n",
        "    couple = choose_couples(results)\n",
        "    children = crossover(couple[0], couple[1])\n",
        "    a = check_constraint( mutate(children[0], 0.1 ), 3)\n",
        "    b = check_constraint( mutate(children[1], 0.1 ), 3)\n",
        "    if sum(a) != 0 :#and sum(a) <= 3:\n",
        "      results.loc[len(results)] = [ str(a) , columns_selector(a), calculate_score_f1(columns_selector( a ),  X_train, y_train, X_test, y_test) ]\n",
        "    if sum(b) != 0 :#and sum(b) <= 3:\n",
        "      results.loc[len(results)] = [ str(b) , columns_selector(b), calculate_score_f1(columns_selector( b ),  X_train, y_train, X_test, y_test) ]\n",
        "    cnt = cnt +1\n",
        "    results = results.reset_index(drop=True)\n",
        "  best_in_generation.append(results.loc[results['score'].idxmax()][1])\n",
        "  scores.append( results['score'].mean() )\n",
        "  max_scores.append( results['score'].max() )\n",
        "  conver = ( scores[-1] - sum(scores[-min(3, len(scores)):]) / len(scores[-min(3, len(scores)):]) ) / scores[-1]\n",
        "  i = i + 1\n",
        "\n",
        "results.head()"
      ],
      "execution_count": null,
      "outputs": [
        {
          "output_type": "execute_result",
          "data": {
            "text/html": [
              "\n",
              "  <div id=\"df-74b5b2c0-8e58-4e4e-9d97-c6a81d756757\">\n",
              "    <div class=\"colab-df-container\">\n",
              "      <div>\n",
              "<style scoped>\n",
              "    .dataframe tbody tr th:only-of-type {\n",
              "        vertical-align: middle;\n",
              "    }\n",
              "\n",
              "    .dataframe tbody tr th {\n",
              "        vertical-align: top;\n",
              "    }\n",
              "\n",
              "    .dataframe thead th {\n",
              "        text-align: right;\n",
              "    }\n",
              "</style>\n",
              "<table border=\"1\" class=\"dataframe\">\n",
              "  <thead>\n",
              "    <tr style=\"text-align: right;\">\n",
              "      <th></th>\n",
              "      <th>array</th>\n",
              "      <th>columns</th>\n",
              "      <th>score</th>\n",
              "    </tr>\n",
              "  </thead>\n",
              "  <tbody>\n",
              "    <tr>\n",
              "      <th>0</th>\n",
              "      <td>[1, 0, 0, 0, 0, 0, 0, 0, 0, 0, 0, 1, 0, 0, 0, ...</td>\n",
              "      <td>[0, 11, 23]</td>\n",
              "      <td>0.95302</td>\n",
              "    </tr>\n",
              "    <tr>\n",
              "      <th>1</th>\n",
              "      <td>[1, 0, 0, 0, 0, 0, 0, 0, 0, 0, 0, 1, 0, 0, 0, ...</td>\n",
              "      <td>[0, 11, 23]</td>\n",
              "      <td>0.95302</td>\n",
              "    </tr>\n",
              "    <tr>\n",
              "      <th>2</th>\n",
              "      <td>[1, 0, 0, 0, 0, 0, 0, 0, 0, 0, 0, 1, 0, 0, 0, ...</td>\n",
              "      <td>[0, 11, 23]</td>\n",
              "      <td>0.95302</td>\n",
              "    </tr>\n",
              "    <tr>\n",
              "      <th>3</th>\n",
              "      <td>[1, 0, 0, 0, 0, 0, 0, 0, 0, 0, 0, 1, 0, 0, 0, ...</td>\n",
              "      <td>[0, 11, 23]</td>\n",
              "      <td>0.95302</td>\n",
              "    </tr>\n",
              "    <tr>\n",
              "      <th>4</th>\n",
              "      <td>[1, 0, 0, 0, 0, 0, 0, 0, 0, 0, 0, 1, 0, 0, 0, ...</td>\n",
              "      <td>[0, 11, 23]</td>\n",
              "      <td>0.95302</td>\n",
              "    </tr>\n",
              "  </tbody>\n",
              "</table>\n",
              "</div>\n",
              "      <button class=\"colab-df-convert\" onclick=\"convertToInteractive('df-74b5b2c0-8e58-4e4e-9d97-c6a81d756757')\"\n",
              "              title=\"Convert this dataframe to an interactive table.\"\n",
              "              style=\"display:none;\">\n",
              "        \n",
              "  <svg xmlns=\"http://www.w3.org/2000/svg\" height=\"24px\"viewBox=\"0 0 24 24\"\n",
              "       width=\"24px\">\n",
              "    <path d=\"M0 0h24v24H0V0z\" fill=\"none\"/>\n",
              "    <path d=\"M18.56 5.44l.94 2.06.94-2.06 2.06-.94-2.06-.94-.94-2.06-.94 2.06-2.06.94zm-11 1L8.5 8.5l.94-2.06 2.06-.94-2.06-.94L8.5 2.5l-.94 2.06-2.06.94zm10 10l.94 2.06.94-2.06 2.06-.94-2.06-.94-.94-2.06-.94 2.06-2.06.94z\"/><path d=\"M17.41 7.96l-1.37-1.37c-.4-.4-.92-.59-1.43-.59-.52 0-1.04.2-1.43.59L10.3 9.45l-7.72 7.72c-.78.78-.78 2.05 0 2.83L4 21.41c.39.39.9.59 1.41.59.51 0 1.02-.2 1.41-.59l7.78-7.78 2.81-2.81c.8-.78.8-2.07 0-2.86zM5.41 20L4 18.59l7.72-7.72 1.47 1.35L5.41 20z\"/>\n",
              "  </svg>\n",
              "      </button>\n",
              "      \n",
              "  <style>\n",
              "    .colab-df-container {\n",
              "      display:flex;\n",
              "      flex-wrap:wrap;\n",
              "      gap: 12px;\n",
              "    }\n",
              "\n",
              "    .colab-df-convert {\n",
              "      background-color: #E8F0FE;\n",
              "      border: none;\n",
              "      border-radius: 50%;\n",
              "      cursor: pointer;\n",
              "      display: none;\n",
              "      fill: #1967D2;\n",
              "      height: 32px;\n",
              "      padding: 0 0 0 0;\n",
              "      width: 32px;\n",
              "    }\n",
              "\n",
              "    .colab-df-convert:hover {\n",
              "      background-color: #E2EBFA;\n",
              "      box-shadow: 0px 1px 2px rgba(60, 64, 67, 0.3), 0px 1px 3px 1px rgba(60, 64, 67, 0.15);\n",
              "      fill: #174EA6;\n",
              "    }\n",
              "\n",
              "    [theme=dark] .colab-df-convert {\n",
              "      background-color: #3B4455;\n",
              "      fill: #D2E3FC;\n",
              "    }\n",
              "\n",
              "    [theme=dark] .colab-df-convert:hover {\n",
              "      background-color: #434B5C;\n",
              "      box-shadow: 0px 1px 3px 1px rgba(0, 0, 0, 0.15);\n",
              "      filter: drop-shadow(0px 1px 2px rgba(0, 0, 0, 0.3));\n",
              "      fill: #FFFFFF;\n",
              "    }\n",
              "  </style>\n",
              "\n",
              "      <script>\n",
              "        const buttonEl =\n",
              "          document.querySelector('#df-74b5b2c0-8e58-4e4e-9d97-c6a81d756757 button.colab-df-convert');\n",
              "        buttonEl.style.display =\n",
              "          google.colab.kernel.accessAllowed ? 'block' : 'none';\n",
              "\n",
              "        async function convertToInteractive(key) {\n",
              "          const element = document.querySelector('#df-74b5b2c0-8e58-4e4e-9d97-c6a81d756757');\n",
              "          const dataTable =\n",
              "            await google.colab.kernel.invokeFunction('convertToInteractive',\n",
              "                                                     [key], {});\n",
              "          if (!dataTable) return;\n",
              "\n",
              "          const docLinkHtml = 'Like what you see? Visit the ' +\n",
              "            '<a target=\"_blank\" href=https://colab.research.google.com/notebooks/data_table.ipynb>data table notebook</a>'\n",
              "            + ' to learn more about interactive tables.';\n",
              "          element.innerHTML = '';\n",
              "          dataTable['output_type'] = 'display_data';\n",
              "          await google.colab.output.renderOutput(dataTable, element);\n",
              "          const docLink = document.createElement('div');\n",
              "          docLink.innerHTML = docLinkHtml;\n",
              "          element.appendChild(docLink);\n",
              "        }\n",
              "      </script>\n",
              "    </div>\n",
              "  </div>\n",
              "  "
            ],
            "text/plain": [
              "                                               array      columns    score\n",
              "0  [1, 0, 0, 0, 0, 0, 0, 0, 0, 0, 0, 1, 0, 0, 0, ...  [0, 11, 23]  0.95302\n",
              "1  [1, 0, 0, 0, 0, 0, 0, 0, 0, 0, 0, 1, 0, 0, 0, ...  [0, 11, 23]  0.95302\n",
              "2  [1, 0, 0, 0, 0, 0, 0, 0, 0, 0, 0, 1, 0, 0, 0, ...  [0, 11, 23]  0.95302\n",
              "3  [1, 0, 0, 0, 0, 0, 0, 0, 0, 0, 0, 1, 0, 0, 0, ...  [0, 11, 23]  0.95302\n",
              "4  [1, 0, 0, 0, 0, 0, 0, 0, 0, 0, 0, 1, 0, 0, 0, ...  [0, 11, 23]  0.95302"
            ]
          },
          "metadata": {},
          "execution_count": 111
        }
      ]
    },
    {
      "cell_type": "code",
      "metadata": {
        "colab": {
          "base_uri": "https://localhost:8080/",
          "height": 409
        },
        "id": "2UdT4W4b9hpY",
        "outputId": "2b050240-d773-48ed-f13b-fe56454cbb32"
      },
      "source": [
        "plt.rcParams[\"figure.figsize\"] = (12,6)\n",
        "plt.plot(scores)\n",
        "plt.plot(max_scores)\n",
        "props = dict(boxstyle='round', facecolor='orange', alpha=0.5)\n",
        "#plt.text(-1,-1, 'Max F1-score: ' + str(round(max(max_scores), 3)) + \"\\nfor configuration: \" + str(results.loc[results['score'].idxmax()][1]),  fontsize=14,\n",
        "#        verticalalignment='top', bbox=props)\n",
        "print('Max F1-score: ' + str(round(max(max_scores), 3)) + \"\\nfor configuration: \" + str(results.loc[results['score'].idxmax()][1]))"
      ],
      "execution_count": null,
      "outputs": [
        {
          "output_type": "stream",
          "name": "stdout",
          "text": [
            "Max F1-score: 0.953\n",
            "for configuration: [0, 11, 23]\n"
          ]
        },
        {
          "output_type": "display_data",
          "data": {
            "image/png": "[encoded data removed]",
            "text/plain": [
              "<Figure size 864x432 with 1 Axes>"
            ]
          },
          "metadata": {
            "needs_background": "light"
          }
        }
      ]
    },
    {
      "cell_type": "markdown",
      "source": [
        "Spróbujmy zwiekszyć współczynnik odpowiedzialny za prawdopodobieństwo mutacji."
      ],
      "metadata": {
        "id": "r-s9FyC--y7c"
      }
    },
    {
      "cell_type": "code",
      "metadata": {
        "colab": {
          "base_uri": "https://localhost:8080/",
          "height": 206
        },
        "id": "fyajlylXBJnN",
        "outputId": "a2dd1a6e-1bec-4474-88c8-3c360fe51be2"
      },
      "source": [
        "pop = random_population(10, 30, 0.1, 3)\n",
        "results = pd.DataFrame(columns = ['array', 'columns', 'score'])\n",
        "\n",
        "for i in pop:\n",
        "  if str(columns_selector(i)) not in results['columns']:\n",
        "    #results[tuple(columns_selector(i))] = calculate_score(columns_selector( i ),  X_train, y_train, X_test, y_test)\n",
        "    results.loc[len(results)] = [str(i) ,columns_selector(i),calculate_score_f1(columns_selector( i ),  X_train, y_train, X_test, y_test)]\n",
        "  else:\n",
        "    results.append( results.loc[results['columns'] == str(columns_selector(i)) ] )\n",
        "\n",
        "max_scores = []\n",
        "best_in_generation = []\n",
        "scores = []\n",
        "scores.append( results['score'].mean() )\n",
        "\n",
        "i = 1\n",
        "\n",
        "\n",
        "while i < 50:\n",
        "  results = truncating_selection(results, 50)\n",
        "  cnt = 0\n",
        "  while len(results) < 10:\n",
        "    couple = choose_couples(results)\n",
        "    children = crossover(couple[0], couple[1])\n",
        "    a = check_constraint( mutate(children[0], 0.7 ), 3)\n",
        "    b = check_constraint( mutate(children[1], 0.7 ), 3)\n",
        "    if sum(a) != 0 and sum(a) <= 3:\n",
        "      results.loc[len(results)] = [ str(a) , columns_selector(a), calculate_score_f1(columns_selector( a ),  X_train, y_train, X_test, y_test) ]\n",
        "    if sum(b) != 0 and sum(b) <= 3:\n",
        "      results.loc[len(results)] = [ str(b) , columns_selector(b), calculate_score_f1(columns_selector( b ),  X_train, y_train, X_test, y_test) ]\n",
        "    cnt = cnt +1\n",
        "    results = results.reset_index(drop=True)\n",
        "  best_in_generation.append(results.loc[results['score'].idxmax()][1])\n",
        "  scores.append( results['score'].mean() )\n",
        "  max_scores.append( results['score'].max() )\n",
        "\n",
        "  i = i + 1\n",
        "\n",
        "results.head()"
      ],
      "execution_count": null,
      "outputs": [
        {
          "output_type": "execute_result",
          "data": {
            "text/html": [
              "\n",
              "  <div id=\"df-a0306e69-eb70-412b-a8eb-29322109eb6c\">\n",
              "    <div class=\"colab-df-container\">\n",
              "      <div>\n",
              "<style scoped>\n",
              "    .dataframe tbody tr th:only-of-type {\n",
              "        vertical-align: middle;\n",
              "    }\n",
              "\n",
              "    .dataframe tbody tr th {\n",
              "        vertical-align: top;\n",
              "    }\n",
              "\n",
              "    .dataframe thead th {\n",
              "        text-align: right;\n",
              "    }\n",
              "</style>\n",
              "<table border=\"1\" class=\"dataframe\">\n",
              "  <thead>\n",
              "    <tr style=\"text-align: right;\">\n",
              "      <th></th>\n",
              "      <th>array</th>\n",
              "      <th>columns</th>\n",
              "      <th>score</th>\n",
              "    </tr>\n",
              "  </thead>\n",
              "  <tbody>\n",
              "    <tr>\n",
              "      <th>0</th>\n",
              "      <td>[0, 0, 0, 0, 0, 0, 0, 0, 0, 0, 1, 0, 0, 0, 0, ...</td>\n",
              "      <td>[10, 20, 21]</td>\n",
              "      <td>0.946667</td>\n",
              "    </tr>\n",
              "    <tr>\n",
              "      <th>1</th>\n",
              "      <td>[0, 0, 0, 0, 0, 1, 0, 0, 0, 0, 0, 0, 0, 0, 0, ...</td>\n",
              "      <td>[5, 21, 22]</td>\n",
              "      <td>0.946667</td>\n",
              "    </tr>\n",
              "    <tr>\n",
              "      <th>2</th>\n",
              "      <td>[1, 0, 1, 0, 0, 0, 0, 0, 0, 0, 0, 0, 0, 0, 0, ...</td>\n",
              "      <td>[0, 2, 23]</td>\n",
              "      <td>0.946667</td>\n",
              "    </tr>\n",
              "    <tr>\n",
              "      <th>3</th>\n",
              "      <td>[0, 0, 0, 0, 0, 0, 0, 0, 0, 0, 0, 0, 0, 0, 0, ...</td>\n",
              "      <td>[20, 21, 28]</td>\n",
              "      <td>0.946667</td>\n",
              "    </tr>\n",
              "    <tr>\n",
              "      <th>4</th>\n",
              "      <td>[0, 0, 0, 0, 0, 0, 0, 0, 0, 0, 0, 1, 0, 0, 0, ...</td>\n",
              "      <td>[11, 20, 21]</td>\n",
              "      <td>0.945946</td>\n",
              "    </tr>\n",
              "  </tbody>\n",
              "</table>\n",
              "</div>\n",
              "      <button class=\"colab-df-convert\" onclick=\"convertToInteractive('df-a0306e69-eb70-412b-a8eb-29322109eb6c')\"\n",
              "              title=\"Convert this dataframe to an interactive table.\"\n",
              "              style=\"display:none;\">\n",
              "        \n",
              "  <svg xmlns=\"http://www.w3.org/2000/svg\" height=\"24px\"viewBox=\"0 0 24 24\"\n",
              "       width=\"24px\">\n",
              "    <path d=\"M0 0h24v24H0V0z\" fill=\"none\"/>\n",
              "    <path d=\"M18.56 5.44l.94 2.06.94-2.06 2.06-.94-2.06-.94-.94-2.06-.94 2.06-2.06.94zm-11 1L8.5 8.5l.94-2.06 2.06-.94-2.06-.94L8.5 2.5l-.94 2.06-2.06.94zm10 10l.94 2.06.94-2.06 2.06-.94-2.06-.94-.94-2.06-.94 2.06-2.06.94z\"/><path d=\"M17.41 7.96l-1.37-1.37c-.4-.4-.92-.59-1.43-.59-.52 0-1.04.2-1.43.59L10.3 9.45l-7.72 7.72c-.78.78-.78 2.05 0 2.83L4 21.41c.39.39.9.59 1.41.59.51 0 1.02-.2 1.41-.59l7.78-7.78 2.81-2.81c.8-.78.8-2.07 0-2.86zM5.41 20L4 18.59l7.72-7.72 1.47 1.35L5.41 20z\"/>\n",
              "  </svg>\n",
              "      </button>\n",
              "      \n",
              "  <style>\n",
              "    .colab-df-container {\n",
              "      display:flex;\n",
              "      flex-wrap:wrap;\n",
              "      gap: 12px;\n",
              "    }\n",
              "\n",
              "    .colab-df-convert {\n",
              "      background-color: #E8F0FE;\n",
              "      border: none;\n",
              "      border-radius: 50%;\n",
              "      cursor: pointer;\n",
              "      display: none;\n",
              "      fill: #1967D2;\n",
              "      height: 32px;\n",
              "      padding: 0 0 0 0;\n",
              "      width: 32px;\n",
              "    }\n",
              "\n",
              "    .colab-df-convert:hover {\n",
              "      background-color: #E2EBFA;\n",
              "      box-shadow: 0px 1px 2px rgba(60, 64, 67, 0.3), 0px 1px 3px 1px rgba(60, 64, 67, 0.15);\n",
              "      fill: #174EA6;\n",
              "    }\n",
              "\n",
              "    [theme=dark] .colab-df-convert {\n",
              "      background-color: #3B4455;\n",
              "      fill: #D2E3FC;\n",
              "    }\n",
              "\n",
              "    [theme=dark] .colab-df-convert:hover {\n",
              "      background-color: #434B5C;\n",
              "      box-shadow: 0px 1px 3px 1px rgba(0, 0, 0, 0.15);\n",
              "      filter: drop-shadow(0px 1px 2px rgba(0, 0, 0, 0.3));\n",
              "      fill: #FFFFFF;\n",
              "    }\n",
              "  </style>\n",
              "\n",
              "      <script>\n",
              "        const buttonEl =\n",
              "          document.querySelector('#df-a0306e69-eb70-412b-a8eb-29322109eb6c button.colab-df-convert');\n",
              "        buttonEl.style.display =\n",
              "          google.colab.kernel.accessAllowed ? 'block' : 'none';\n",
              "\n",
              "        async function convertToInteractive(key) {\n",
              "          const element = document.querySelector('#df-a0306e69-eb70-412b-a8eb-29322109eb6c');\n",
              "          const dataTable =\n",
              "            await google.colab.kernel.invokeFunction('convertToInteractive',\n",
              "                                                     [key], {});\n",
              "          if (!dataTable) return;\n",
              "\n",
              "          const docLinkHtml = 'Like what you see? Visit the ' +\n",
              "            '<a target=\"_blank\" href=https://colab.research.google.com/notebooks/data_table.ipynb>data table notebook</a>'\n",
              "            + ' to learn more about interactive tables.';\n",
              "          element.innerHTML = '';\n",
              "          dataTable['output_type'] = 'display_data';\n",
              "          await google.colab.output.renderOutput(dataTable, element);\n",
              "          const docLink = document.createElement('div');\n",
              "          docLink.innerHTML = docLinkHtml;\n",
              "          element.appendChild(docLink);\n",
              "        }\n",
              "      </script>\n",
              "    </div>\n",
              "  </div>\n",
              "  "
            ],
            "text/plain": [
              "                                               array       columns     score\n",
              "0  [0, 0, 0, 0, 0, 0, 0, 0, 0, 0, 1, 0, 0, 0, 0, ...  [10, 20, 21]  0.946667\n",
              "1  [0, 0, 0, 0, 0, 1, 0, 0, 0, 0, 0, 0, 0, 0, 0, ...   [5, 21, 22]  0.946667\n",
              "2  [1, 0, 1, 0, 0, 0, 0, 0, 0, 0, 0, 0, 0, 0, 0, ...    [0, 2, 23]  0.946667\n",
              "3  [0, 0, 0, 0, 0, 0, 0, 0, 0, 0, 0, 0, 0, 0, 0, ...  [20, 21, 28]  0.946667\n",
              "4  [0, 0, 0, 0, 0, 0, 0, 0, 0, 0, 0, 1, 0, 0, 0, ...  [11, 20, 21]  0.945946"
            ]
          },
          "metadata": {},
          "execution_count": 113
        }
      ]
    },
    {
      "cell_type": "code",
      "source": [
        "plt.rcParams[\"figure.figsize\"] = (12,6)\n",
        "plt.plot(scores)\n",
        "plt.plot(max_scores)\n",
        "print('Max F1-score: ' + str(round(max(max_scores), 3)) + \"\\nfor configuration: \" + str(results.loc[results['score'].idxmax()][1]))"
      ],
      "metadata": {
        "colab": {
          "base_uri": "https://localhost:8080/",
          "height": 409
        },
        "id": "xsc6qCxR_Xe2",
        "outputId": "7e6affee-10f9-44ee-c4a6-a6d6d2bcacdc"
      },
      "execution_count": null,
      "outputs": [
        {
          "output_type": "stream",
          "name": "stdout",
          "text": [
            "Max F1-score: 0.947\n",
            "for configuration: [10, 20, 21]\n"
          ]
        },
        {
          "output_type": "display_data",
          "data": {
            "image/png": "[encoded data removed]",
            "text/plain": [
              "<Figure size 864x432 with 1 Axes>"
            ]
          },
          "metadata": {
            "needs_background": "light"
          }
        }
      ]
    },
    {
      "cell_type": "markdown",
      "source": [
        "Wyższy współczynnik mutacji opóźnił znaleznienie najlepszego rozwiązania. Generalnie, poprzez zwiększenie zmienności, opóźniamy znalezienie optimum, ale jednocześnie zapewniamy sobie, że proces będzie bardziej \"chętny\" do testowania nowych rozwiązań, więc jest większa szansa że znajdzie najlepsze rozwiązanie.\n",
        "\n",
        "Inny parametr, który możemy dostosowywać to część z danej generacji, którą poddajemy dalszej reprodukcji. Można także dostosowywać mechanizmu samego rozmnażania czy doboru, a także, jak widać po przykłdzie powyżej, dostosować funckję celu, jeśli zajdzie taka potrzeba."
      ],
      "metadata": {
        "id": "OOjGmTSPpGbZ"
      }
    }
  ]
}